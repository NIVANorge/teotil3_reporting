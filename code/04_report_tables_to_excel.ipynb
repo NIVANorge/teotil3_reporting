{
 "cells": [
  {
   "cell_type": "code",
   "execution_count": 1,
   "id": "fca9a34c-4ccd-47f3-9135-031b5fbcd0d9",
   "metadata": {},
   "outputs": [],
   "source": [
    "import os\n",
    "\n",
    "import pandas as pd\n",
    "from utils import filename_from_heading"
   ]
  },
  {
   "cell_type": "code",
   "execution_count": 2,
   "id": "ba7f9b2a-f320-41ff-950f-47ac9248c028",
   "metadata": {},
   "outputs": [],
   "source": [
    "year = 2023"
   ]
  },
  {
   "cell_type": "code",
   "execution_count": 3,
   "id": "351aab69-55da-4aa7-9000-f116c4a9107e",
   "metadata": {},
   "outputs": [],
   "source": [
    "pars = [\"p\", \"n\", \"c\"]\n",
    "headings = [\n",
    "    # Definerte kystavsnitt\n",
    "    \"Norges kystområder\",\n",
    "    \"Sverige – Strømtangen fyr (Fredrikstad)\",\n",
    "    \"Indre Oslofjord (nord for Drøbak)\",\n",
    "    \"Hele Oslofjord (Svenskegrensa - Kragerø)\",\n",
    "    \"Svenskegrensa – Lindesnes\",\n",
    "    \"Lindesnes – Stad\",\n",
    "    \"Stad – Russland\",\n",
    "    # Norske vannregioner\n",
    "    \"Glomma\",\n",
    "    \"Vest-Viken\",\n",
    "    \"Agder\",\n",
    "    \"Rogaland\",\n",
    "    \"Vestland\",\n",
    "    \"Møre og Romsdal\",\n",
    "    \"Trøndelag\",\n",
    "    \"Nordland\",\n",
    "    \"Troms\",\n",
    "    \"Finnmark\",\n",
    "    # Norske forvaltingsplanområder\n",
    "    \"Nordsjøen\",\n",
    "    \"Norskehavet\",\n",
    "    \"Barentshavet\",\n",
    "]\n",
    "data_fold = f\"../report_data/{year}/data\"\n",
    "\n",
    "df_list = []\n",
    "for heading in headings:\n",
    "    for par in pars:\n",
    "        csv_path = os.path.join(data_fold, f\"{heading}_{par}.csv\")\n",
    "        df = pd.read_csv(csv_path)\n",
    "        cols = list(df.columns)\n",
    "        df[\"Region\"] = heading\n",
    "        df[\"Par\"] = par.upper()\n",
    "        df = df[[\"Region\", \"Par\"] + cols]\n",
    "        df_list.append(df)\n",
    "df = pd.concat(df_list, axis=\"rows\")\n",
    "\n",
    "# Save\n",
    "xl_path = f\"../report_data/{year}/teotil_report_2023_data_tables.xlsx\"\n",
    "df.to_excel(xl_path, index=False)"
   ]
  }
 ],
 "metadata": {
  "kernelspec": {
   "display_name": "Python 3 (ipykernel)",
   "language": "python",
   "name": "python3"
  },
  "language_info": {
   "codemirror_mode": {
    "name": "ipython",
    "version": 3
   },
   "file_extension": ".py",
   "mimetype": "text/x-python",
   "name": "python",
   "nbconvert_exporter": "python",
   "pygments_lexer": "ipython3",
   "version": "3.11.6"
  }
 },
 "nbformat": 4,
 "nbformat_minor": 5
}
